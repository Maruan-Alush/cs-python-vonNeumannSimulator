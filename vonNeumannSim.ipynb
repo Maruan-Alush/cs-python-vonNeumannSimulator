{
 "cells": [
  {
   "cell_type": "markdown",
   "metadata": {},
   "source": [
    "## Von Neumann architecture simulation"
   ]
  },
  {
   "cell_type": "code",
   "execution_count": 5,
   "metadata": {
    "scrolled": true
   },
   "outputs": [
    {
     "name": "stdout",
     "output_type": "stream",
     "text": [
      "Enter 'READ' to read or 'WRITE' to write \n",
      "READ\n",
      "From which address [0-15] \n",
      "3\n",
      "CPU sends  3  along the ADDRESS bus \n",
      " CPU sets CONTROL bus to  READ \n",
      " Memory sends ' mouse ' along the DATA bus\n"
     ]
    }
   ],
   "source": [
    "## This is where we instatiate a list. In this case our list will act as MEMORY in or Von Neumann Achitecture\n",
    "## For a four-bit machine there are only 16 possible addresses\n",
    "memory = [\"cat\", \"dog\", \"horse\", \"mouse\", \"\", \"\", \"\", \"\", \"\", \"\", \"\", \"\", \"\", \"\", \"\", \"\"]\n",
    "\n",
    "## We as the user's will act as the instructions\n",
    "\n",
    "## We then need to get the next instruction (either READ or WRITE) and the ADDRESS in the memory we are working from\n",
    "\n",
    "userInput = input(\"Enter 'READ' to read or 'WRITE' to write \\n\")\n",
    "addressInput = int(input(\"From which address [0-15] \\n\"))    \n",
    "\n",
    "## We then need to follow a set of instructions, based on the user's choice, therefore we need an IF statement\n",
    "\n",
    "if userInput == \"READ\":\n",
    "    ## Now we will print what is happening in the Von Neumann model\n",
    "    print (\"CPU sends \", addressInput, \" along the ADDRESS bus \\n CPU sets CONTROL bus to \", userInput,\n",
    "           \"\\n Memory sends '\",memory[addressInput], \"' along the DATA bus\")\n",
    "\n",
    "elif userInput == \"WRITE\":\n",
    "    ## This time we will need to ask the user what DATA they would like to WRITE to the given address, and store this\n",
    "    writeInput = input(\"What would you like to store at this location?\")\n",
    "    \n",
    "    ## Set the data value at ADDRESS in memory to the user's input\n",
    "    memory[addressInput] = writeInput\n",
    "    \n",
    "    ## Now we will print what is happening in the Von Neumann model\n",
    "    print (\"CPU sends \", addressInput, \"along the ADDRESS bus. \\n CPU sets CONTROL bus to \", userInput,\n",
    "           \"\\n CPU sends '\", writeInput, \"' along the DATA bus\")\n",
    "    \n",
    "    ## Just to check if it has worked, we will print out the contents of the ADDRESS location\n",
    "    print (\"This is the contents of ADDRESS \", addressInput, \"\\n\", memory[addressInput])\n",
    "    "
   ]
  },
  {
   "cell_type": "code",
   "execution_count": 6,
   "metadata": {},
   "outputs": [],
   "source": [
    "## The same program using BINARY"
   ]
  },
  {
   "cell_type": "code",
   "execution_count": 4,
   "metadata": {},
   "outputs": [
    {
     "name": "stdout",
     "output_type": "stream",
     "text": [
      "Enter 'READ' to read or 'WRITE' to write \n",
      "WRITE\n",
      "From which address [0-15] \n",
      "3\n",
      "What would you like to store at this location?bird\n",
      "CPU sends  0b11 along the ADDRESS bus. \n",
      " CPU sets CONTROL bus to  WRITE \n",
      " CPU sends ' bird ' along the DATA bus\n",
      "This is the contents of ADDRESS  3 \n",
      " bird\n"
     ]
    }
   ],
   "source": [
    "memory = [\"cat\", \"dog\", \"horse\", \"mouse\", \"\", \"\", \"\", \"\", \"\", \"\", \"\", \"\", \"\", \"\", \"\", \"\"]\n",
    "\n",
    "userInput = input(\"Enter 'READ' to read or 'WRITE' to write \\n\")\n",
    "addressInput = int(input(\"From which address [0-15] \\n\"))   \n",
    "\n",
    "if userInput == \"READ\":\n",
    "    print (\"CPU sends \", bin(addressInput), \" along the ADDRESS bus \\n CPU sets CONTROL bus to \", userInput,\n",
    "           \"\\n Memory sends '\",memory[addressInput], \"' along the DATA bus\")\n",
    "\n",
    "elif userInput == \"WRITE\":\n",
    "    writeInput = input(\"What would you like to store at this location?\")\n",
    "    \n",
    "    memory[addressInput] = writeInput\n",
    "    \n",
    "    print (\"CPU sends \", bin(addressInput), \"along the ADDRESS bus. \\n CPU sets CONTROL bus to \", userInput,\n",
    "           \"\\n CPU sends '\", writeInput, \"' along the DATA bus\")\n",
    "    \n",
    "    print (\"This is the content of ADDRESS \", bin(addressInput), \"\\n\", memory[addressInput])\n",
    "    "
   ]
  },
  {
   "cell_type": "code",
   "execution_count": null,
   "metadata": {},
   "outputs": [],
   "source": []
  }
 ],
 "metadata": {
  "kernelspec": {
   "display_name": "Python 3",
   "language": "python",
   "name": "python3"
  },
  "language_info": {
   "codemirror_mode": {
    "name": "ipython",
    "version": 3
   },
   "file_extension": ".py",
   "mimetype": "text/x-python",
   "name": "python",
   "nbconvert_exporter": "python",
   "pygments_lexer": "ipython3",
   "version": "3.5.2"
  }
 },
 "nbformat": 4,
 "nbformat_minor": 2
}
